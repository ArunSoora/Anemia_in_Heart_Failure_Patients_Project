{
 "cells": [
  {
   "cell_type": "markdown",
   "id": "2971dc05",
   "metadata": {},
   "source": [
    "# Advanced Analysis: Anemia in Heart Failure Patients"
   ]
  },
  {
   "cell_type": "code",
   "execution_count": null,
   "id": "d18e5472",
   "metadata": {},
   "outputs": [],
   "source": [
    "import pandas as pd\n",
    "import matplotlib.pyplot as plt\n",
    "import seaborn as sns\n",
    "import numpy as np\n",
    "%matplotlib inline"
   ]
  },
  {
   "cell_type": "code",
   "execution_count": null,
   "id": "026f4881",
   "metadata": {},
   "outputs": [],
   "source": [
    "# Load detailed dataset\n",
    "df = pd.read_csv('anemia_hf_data_detailed.csv')\n",
    "df.head()"
   ]
  },
  {
   "cell_type": "code",
   "execution_count": null,
   "id": "7cdee84d",
   "metadata": {},
   "outputs": [],
   "source": [
    "# Convert binary categorical columns\n",
    "df['IV_Iron_Administered'] = df['IV_Iron_Administered'].map({'Yes': 1, 'No': 0})\n",
    "df['Readmitted_in_30_Days'] = df['Readmitted_in_30_Days'].map({'Yes': 1, 'No': 0})\n",
    "df['Diabetes'] = df['Diabetes'].map({'Yes': 1, 'No': 0})\n",
    "df['CKD'] = df['CKD'].map({'Yes': 1, 'No': 0})"
   ]
  },
  {
   "cell_type": "code",
   "execution_count": null,
   "id": "9a68d8c7",
   "metadata": {},
   "outputs": [],
   "source": [
    "# Summary statistics\n",
    "df.describe()"
   ]
  },
  {
   "cell_type": "code",
   "execution_count": null,
   "id": "a69c6b72",
   "metadata": {},
   "outputs": [],
   "source": [
    "# Distribution of Hemoglobin, Ferritin, and EF\n",
    "fig, axes = plt.subplots(1, 3, figsize=(18, 5))\n",
    "sns.histplot(df['Hemoglobin_g_dL'], kde=True, ax=axes[0], color='skyblue')\n",
    "axes[0].set_title('Hemoglobin Distribution')\n",
    "sns.histplot(df['Ferritin_ng_mL'], kde=True, ax=axes[1], color='orange')\n",
    "axes[1].set_title('Ferritin Distribution')\n",
    "sns.histplot(df['EF_pct'], kde=True, ax=axes[2], color='green')\n",
    "axes[2].set_title('Ejection Fraction Distribution')\n",
    "plt.tight_layout()\n",
    "plt.show()"
   ]
  },
  {
   "cell_type": "code",
   "execution_count": null,
   "id": "d03c02a2",
   "metadata": {},
   "outputs": [],
   "source": [
    "# Boxplots for biomarkers vs Readmission\n",
    "features = ['Hemoglobin_g_dL', 'Ferritin_ng_mL', 'TSAT_pct', 'EF_pct', 'BMI']\n",
    "for col in features:\n",
    "    sns.boxplot(x='Readmitted_in_30_Days', y=col, data=df)\n",
    "    plt.title(f'{col} vs Readmission')\n",
    "    plt.show()"
   ]
  },
  {
   "cell_type": "code",
   "execution_count": null,
   "id": "b869288d",
   "metadata": {},
   "outputs": [],
   "source": [
    "# Correlation heatmap (continuous + binary numeric)\n",
    "corr_cols = ['Hemoglobin_g_dL', 'Ferritin_ng_mL', 'TSAT_pct', 'EF_pct', 'BMI', 'IV_Iron_Administered', 'Diabetes', 'CKD', 'Readmitted_in_30_Days']\n",
    "sns.heatmap(df[corr_cols].corr(), annot=True, cmap='coolwarm')\n",
    "plt.title('Correlation Matrix')\n",
    "plt.tight_layout()\n",
    "plt.show()"
   ]
  },
  {
   "cell_type": "code",
   "execution_count": null,
   "id": "e54df0d3",
   "metadata": {},
   "outputs": [],
   "source": [
    "# Subgroup analysis: CKD patients\n",
    "sns.barplot(x='IV_Iron_Administered', y='Readmitted_in_30_Days', data=df[df['CKD'] == 1])\n",
    "plt.title('IV Iron vs Readmission (CKD Patients Only)')\n",
    "plt.show()"
   ]
  }
 ],
 "metadata": {},
 "nbformat": 4,
 "nbformat_minor": 5
}
