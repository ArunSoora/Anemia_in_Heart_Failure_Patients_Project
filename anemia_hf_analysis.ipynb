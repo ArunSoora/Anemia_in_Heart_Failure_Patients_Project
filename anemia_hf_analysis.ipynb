{
 "cells": [
  {
   "cell_type": "markdown",
   "id": "d385bc14",
   "metadata": {},
   "source": [
    "# Anemia in Heart Failure Patients: Data Analysis & Visualization"
   ]
  },
  {
   "cell_type": "code",
   "execution_count": null,
   "id": "07ba29fb",
   "metadata": {},
   "outputs": [],
   "source": [
    "import pandas as pd\n",
    "import matplotlib.pyplot as plt\n",
    "import seaborn as sns\n",
    "%matplotlib inline"
   ]
  },
  {
   "cell_type": "code",
   "execution_count": null,
   "id": "8f4f9e5c",
   "metadata": {},
   "outputs": [],
   "source": [
    "# Load the dataset\n",
    "df = pd.read_csv('anemia_hf_data.csv')\n",
    "df.head()"
   ]
  },
  {
   "cell_type": "code",
   "execution_count": null,
   "id": "daa78b7d",
   "metadata": {},
   "outputs": [],
   "source": [
    "# Convert Yes/No to 1/0 for analysis\n",
    "df['IV_Iron_Administered'] = df['IV_Iron_Administered'].map({'Yes': 1, 'No': 0})\n",
    "df['Readmitted_in_30_Days'] = df['Readmitted_in_30_Days'].map({'Yes': 1, 'No': 0})"
   ]
  },
  {
   "cell_type": "code",
   "execution_count": null,
   "id": "a9ba3bf1",
   "metadata": {},
   "outputs": [],
   "source": [
    "# Descriptive Statistics\n",
    "df.describe()"
   ]
  },
  {
   "cell_type": "code",
   "execution_count": null,
   "id": "c583ebfc",
   "metadata": {},
   "outputs": [],
   "source": [
    "# Boxplot: Hemoglobin vs Readmission\n",
    "sns.boxplot(x='Readmitted_in_30_Days', y='Hemoglobin_g_dL', data=df)\n",
    "plt.title('Hemoglobin Levels vs 30-Day Readmission')\n",
    "plt.xlabel('Readmitted (1=Yes, 0=No)')\n",
    "plt.ylabel('Hemoglobin (g/dL)')\n",
    "plt.tight_layout()\n",
    "plt.show()"
   ]
  },
  {
   "cell_type": "code",
   "execution_count": null,
   "id": "03490f5b",
   "metadata": {},
   "outputs": [],
   "source": [
    "# Barplot: IV Iron Therapy vs Readmission\n",
    "sns.barplot(x='IV_Iron_Administered', y='Readmitted_in_30_Days', data=df, ci=None)\n",
    "plt.title('Impact of IV Iron Therapy on 30-Day Readmission')\n",
    "plt.xlabel('IV Iron Administered (1=Yes, 0=No)')\n",
    "plt.ylabel('Readmission Rate')\n",
    "plt.tight_layout()\n",
    "plt.show()"
   ]
  },
  {
   "cell_type": "code",
   "execution_count": null,
   "id": "508c9c41",
   "metadata": {},
   "outputs": [],
   "source": [
    "# Correlation Heatmap\n",
    "correlation = df[['Hemoglobin_g_dL', 'Ferritin_ng_mL', 'TSAT_pct', 'EF_pct', 'Readmitted_in_30_Days']].corr()\n",
    "sns.heatmap(correlation, annot=True, cmap='coolwarm')\n",
    "plt.title('Correlation Matrix')\n",
    "plt.tight_layout()\n",
    "plt.show()"
   ]
  }
 ],
 "metadata": {},
 "nbformat": 4,
 "nbformat_minor": 5
}
